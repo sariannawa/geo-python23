ice_cream_rating = 8
sleeping_rating = 7
